{
  "cells": [
    {
      "cell_type": "markdown",
      "metadata": {
        "id": "view-in-github",
        "colab_type": "text"
      },
      "source": [
        "<a href=\"https://colab.research.google.com/github/leeds1219/VQA_retriever/blob/main/MAML.ipynb\" target=\"_parent\"><img src=\"https://colab.research.google.com/assets/colab-badge.svg\" alt=\"Open In Colab\"/></a>"
      ]
    },
    {
      "cell_type": "code",
      "source": [
        "import torch\n",
        "import torch.nn as nn\n",
        "import torch.optim as optim\n",
        "import torch.nn.functional as F\n",
        "from transformers import BertModel, BertTokenizer\n",
        "\n",
        "# 1. BERT 기반 Retriever 모델 정의\n",
        "class BertRetriever(nn.Module):\n",
        "    def __init__(self, pretrained_model=\"bert-base-uncased\"): # BERT, RoBERTa, DistilBERT CLIP\n",
        "        super(BertRetriever, self).__init__()\n",
        "        self.bert = BertModel.from_pretrained(pretrained_model)  # Pretrained BERT\n",
        "\n",
        "    def forward(self, input_ids, attention_mask):\n",
        "        # BERT를 사용해 입력 문장의 임베딩 생성\n",
        "        outputs = self.bert(input_ids=input_ids, attention_mask=attention_mask)\n",
        "        cls_embedding = outputs.last_hidden_state[:, 0, :]  # [CLS] 토큰의 임베딩 (768차원)\n",
        "        return cls_embedding"
      ],
      "metadata": {
        "id": "OAwrQMyhTRVa"
      },
      "execution_count": 1,
      "outputs": []
    },
    {
      "cell_type": "code",
      "source": [
        "# 2. Triplet Loss 계산 함수\n",
        "def triplet_loss(anchor, positive, negative, margin=1.0):\n",
        "    pos_distance = F.pairwise_distance(anchor, positive, p=2)\n",
        "    neg_distance = F.pairwise_distance(anchor, negative, p=2)\n",
        "    loss = F.relu(pos_distance - neg_distance + margin)\n",
        "    return loss.mean()"
      ],
      "metadata": {
        "id": "YDCmZsjFVens"
      },
      "execution_count": null,
      "outputs": []
    },
    {
      "cell_type": "code",
      "source": [
        "# 3. Meta-Learning Training (MAML)\n",
        "def meta_learning_training(tasks, model, meta_optimizer, inner_lr, outer_lr):\n",
        "    meta_loss = 0\n",
        "\n",
        "    for task in tasks:\n",
        "        support_set, query_set = task\n",
        "\n",
        "        # Inner Loop\n",
        "        adapted_model = clone_model(model)\n",
        "        task_optimizer = optim.SGD(adapted_model.parameters(), lr=inner_lr)\n",
        "\n",
        "        for anchor, positive, negative in support_set:\n",
        "            anchor_emb = adapted_model(**anchor)\n",
        "            positive_emb = adapted_model(**positive)\n",
        "            negative_emb = adapted_model(**negative)\n",
        "\n",
        "            loss = triplet_loss(anchor_emb, positive_emb, negative_emb)\n",
        "            task_optimizer.zero_grad()\n",
        "            loss.backward()\n",
        "            task_optimizer.step()\n",
        "\n",
        "        # Outer Loop\n",
        "        for anchor, positive, negative in query_set:\n",
        "            anchor_emb = adapted_model(**anchor)\n",
        "            positive_emb = adapted_model(**positive)\n",
        "            negative_emb = adapted_model(**negative)\n",
        "\n",
        "            loss = triplet_loss(anchor_emb, positive_emb, negative_emb)\n",
        "            meta_loss += loss\n",
        "\n",
        "    meta_optimizer.zero_grad()\n",
        "    meta_loss.backward()\n",
        "    meta_optimizer.step()\n",
        "\n",
        "    return model"
      ],
      "metadata": {
        "id": "BouSlhXXVlel"
      },
      "execution_count": null,
      "outputs": []
    },
    {
      "cell_type": "code",
      "source": [
        "def clone_model(model):\n",
        "    cloned_model = BertRetriever()\n",
        "    cloned_model.load_state_dict(model.state_dict())\n",
        "    return cloned_model"
      ],
      "metadata": {
        "id": "hC48V9JKVo0O"
      },
      "execution_count": null,
      "outputs": []
    },
    {
      "cell_type": "code",
      "source": [
        "import random\n",
        "\n",
        "# 5. 샘플링 함수\n",
        "def sample_tasks(data, tokenizer, num_tasks=10, samples_per_task=32):\n",
        "    tasks = []\n",
        "    for _ in range(num_tasks):  # num_tasks 만큼 태스크 샘플링\n",
        "        support_set = []\n",
        "        query_set = []\n",
        "\n",
        "        sampled_data = random.sample(data, samples_per_task)  # 데이터에서 샘플 추출\n",
        "\n",
        "        for entry in sampled_data:\n",
        "            anchor_text = entry['query']\n",
        "            positive_text = entry['positive_document']\n",
        "            negative_text = entry['negative_document']\n",
        "\n",
        "            anchor = tokenizer(anchor_text, return_tensors=\"pt\", padding=True, truncation=True)\n",
        "            positive = tokenizer(positive_text, return_tensors=\"pt\", padding=True, truncation=True)\n",
        "            negative = tokenizer(negative_text, return_tensors=\"pt\", padding=True, truncation=True)\n",
        "\n",
        "            support_set.append((anchor, positive, negative))\n",
        "            query_set.append((anchor, positive, negative))\n",
        "\n",
        "        tasks.append((support_set, query_set))\n",
        "    return tasks"
      ],
      "metadata": {
        "id": "aiSRva-FVvG5"
      },
      "execution_count": 2,
      "outputs": []
    },
    {
      "cell_type": "code",
      "source": [
        "def train_model(model, meta_optimizer, tokenizer, num_epochs, inner_lr, outer_lr):\n",
        "    for epoch in range(num_epochs):\n",
        "        tasks = sample_tasks(tokenizer)  # 샘플 태스크 생성\n",
        "        model = meta_learning_training(tasks, model, meta_optimizer, inner_lr, outer_lr)\n",
        "        print(f\"Epoch {epoch + 1}: Training complete\")\n",
        "\n",
        "    return model"
      ],
      "metadata": {
        "id": "pmsITNTSVuZV"
      },
      "execution_count": null,
      "outputs": []
    },
    {
      "cell_type": "code",
      "source": [
        "tokenizer = BertTokenizer.from_pretrained(\"bert-base-uncased\")\n",
        "model = BertRetriever()\n",
        "meta_optimizer = optim.Adam(model.parameters(), lr=0.001)\n",
        "\n",
        "trained_model = train_model(model, meta_optimizer, tokenizer, num_epochs=5, inner_lr=0.01, outer_lr=0.001)\n"
      ],
      "metadata": {
        "id": "oWO00pVYVyPE"
      },
      "execution_count": null,
      "outputs": []
    },
    {
      "cell_type": "markdown",
      "source": [
        "Query: Text? or Image?"
      ],
      "metadata": {
        "id": "KjNCJCRFdSLU"
      }
    },
    {
      "cell_type": "markdown",
      "source": [
        "What to retrieve? Text?"
      ],
      "metadata": {
        "id": "66PGIb9IdZe1"
      }
    },
    {
      "cell_type": "markdown",
      "source": [
        "Where to retrieve from? Wiki corpus?"
      ],
      "metadata": {
        "id": "P9XGmuQdddus"
      }
    },
    {
      "cell_type": "code",
      "source": [],
      "metadata": {
        "id": "iShY0vjDdX98"
      },
      "execution_count": null,
      "outputs": []
    }
  ],
  "metadata": {
    "colab": {
      "provenance": [],
      "authorship_tag": "ABX9TyPplaKhiKmOxH1sdgfGE0cs",
      "include_colab_link": true
    },
    "kernelspec": {
      "display_name": "Python 3",
      "name": "python3"
    },
    "language_info": {
      "name": "python"
    }
  },
  "nbformat": 4,
  "nbformat_minor": 0
}